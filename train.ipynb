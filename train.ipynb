{
 "cells": [
  {
   "cell_type": "code",
   "execution_count": 1,
   "id": "57447ec2-48a4-421c-8abe-7de5737079aa",
   "metadata": {},
   "outputs": [],
   "source": [
    "from torchvision import transforms, datasets\n",
    "from torch.utils.data import DataLoader\n",
    "import torch.nn as nn\n",
    "import torch.nn.functional as F\n",
    "from tqdm.notebook import tqdm\n",
    "import os\n",
    "import torch\n",
    "import math\n",
    "import torchvision\n",
    "import matplotlib.pyplot as plt"
   ]
  },
  {
   "cell_type": "code",
   "execution_count": 2,
   "id": "96b432e9-98b3-49a4-9b43-2e16b4960d11",
   "metadata": {},
   "outputs": [],
   "source": [
    "def load_dataset(data_dir, batch_size):\n",
    "    transform = transforms.Compose([\n",
    "        transforms.ToTensor(),\n",
    "        transforms.Lambda(lambda x: (x > 0.5).float())\n",
    "        ])\n",
    "    data_set = datasets.MNIST(root=data_dir, train=True, download=True, transform=transform)\n",
    "    data_loader = DataLoader(data_set, batch_size=batch_size, shuffle=True)\n",
    "    return data_loader"
   ]
  },
  {
   "cell_type": "code",
   "execution_count": 3,
   "id": "0a3cfc88-8923-4caf-9fc1-b3d6d8531651",
   "metadata": {},
   "outputs": [],
   "source": [
    "class Encoder(nn.Module):\n",
    "    def __init__(self, fan_in, fan_out, hidden_dim):\n",
    "        super(Encoder, self).__init__()\n",
    "        \n",
    "        self.fan_in = fan_in\n",
    "        self.hidden_dim = hidden_dim\n",
    "        self.fan_out = fan_out\n",
    "\n",
    "        self.hidden_layer = nn.Linear(fan_in, hidden_dim)\n",
    "\n",
    "        self.mu_layer = nn.Linear(hidden_dim, fan_out)\n",
    "        self.log_std_layer = nn.Linear(hidden_dim, fan_out)\n",
    "\n",
    "        self.unmasked_layer = nn.Linear(hidden_dim, fan_out * fan_out)\n",
    "        self.mask = torch.tril(torch.ones(fan_out, fan_out), diagonal=-1)\n",
    "        self.register_buffer('mask_const', self.mask)\n",
    "\n",
    "    def forward(self, x):\n",
    "        hidden_output = F.relu(self.hidden_layer(x))\n",
    "        mu_output = self.mu_layer(hidden_output)\n",
    "        log_std_output = self.log_std_layer(hidden_output)\n",
    "\n",
    "        unmasked_layer_output = self.unmasked_layer(hidden_output)\n",
    "        unmasked_layer_output = unmasked_layer_output.view(-1, self.fan_out, self.fan_out)\n",
    "\n",
    "        stanndard_deviation_output = torch.exp(log_std_output)\n",
    "        lower_triangular_matrix = unmasked_layer_output * self.mask_const + torch.diag_embed(stanndard_deviation_output)\n",
    "        \n",
    "        eps = torch.randn_like(stanndard_deviation_output)\n",
    "        z = mu_output + torch.bmm(lower_triangular_matrix, eps.view(-1, self.fan_out, 1)).view(-1, self.fan_out)\n",
    "        return z, eps, log_std_output"
   ]
  },
  {
   "cell_type": "code",
   "execution_count": 4,
   "id": "28410a82-c669-403e-9a40-86fec24ca400",
   "metadata": {},
   "outputs": [],
   "source": [
    "class Decoder(nn.Module):\n",
    "    def __init__(self, fan_in, fan_out, hidden_dim):\n",
    "        super(Decoder, self).__init__()\n",
    "\n",
    "        self.fan_in = fan_in\n",
    "        self.hidden_dim = hidden_dim\n",
    "        self.fan_out = fan_out\n",
    "\n",
    "        self.hidden_layer = nn.Linear(fan_in, hidden_dim)\n",
    "\n",
    "        self.output_layer = nn.Linear(hidden_dim, fan_out)\n",
    "\n",
    "    def forward(self, z):\n",
    "        hidden_output = F.relu(self.hidden_layer(z))\n",
    "        output = F.sigmoid(self.output_layer(hidden_output))\n",
    "\n",
    "        return output"
   ]
  },
  {
   "cell_type": "code",
   "execution_count": 5,
   "id": "f76a0451-8f6a-4e1a-a148-d3fbe88532e3",
   "metadata": {},
   "outputs": [],
   "source": [
    "class VariationalAutoEncoder(nn.Module):\n",
    "    def __init__(self, fan_in=28*28, hidden_dim=1024, latent_dim=2):\n",
    "        super(VariationalAutoEncoder, self).__init__()\n",
    "\n",
    "        self.fan_in = fan_in\n",
    "        self.hidden_dim = hidden_dim\n",
    "        self.latent_dim = latent_dim\n",
    "        \n",
    "        self.encoder = Encoder(fan_in, latent_dim, hidden_dim)\n",
    "        self.decoder = Decoder(latent_dim, fan_in, hidden_dim)\n",
    "\n",
    "    def forward(self, x):\n",
    "        z, eps, log_std_output = self.encoder(x)\n",
    "        x_reconstructed = self.decoder(z)\n",
    "\n",
    "        return x_reconstructed, z, eps, log_std_output"
   ]
  },
  {
   "cell_type": "code",
   "execution_count": 6,
   "id": "a81af80f-12c4-43ba-8f82-46719de66e22",
   "metadata": {},
   "outputs": [],
   "source": [
    "def compute_negative_evidence_lower_bound(x, x_reconstructed, z, eps, log_std):\n",
    "    log_2pi = math.log(2 * math.pi)\n",
    "\n",
    "    # Reconstruction Loss\n",
    "    reconstruction_loss = torch.nn.functional.binary_cross_entropy(\n",
    "        x_reconstructed, x, reduction=\"sum\"\n",
    "    )\n",
    "\n",
    "    # Variational Posterior Term\n",
    "    latent_loss_q = 0.5 * torch.sum(eps**2 + log_std + log_2pi)\n",
    "\n",
    "    # Prior Term\n",
    "    prior_loss = 0.5 * torch.sum(z**2 + log_2pi)\n",
    "\n",
    "    # ELBO and Negative ELBO\n",
    "    elbo = -reconstruction_loss - prior_loss + latent_loss_q\n",
    "    negative_elbo = -elbo\n",
    "\n",
    "    # Average Negative ELBO\n",
    "    batch_size = x.size(0)\n",
    "    average_negative_elbo = negative_elbo / batch_size\n",
    "\n",
    "    return average_negative_elbo"
   ]
  },
  {
   "cell_type": "code",
   "execution_count": 7,
   "id": "8eb71cee-5383-4734-bb98-afe1ae9ad501",
   "metadata": {},
   "outputs": [],
   "source": [
    "def get_lr(step, warmup_steps, max_lr, min_lr, max_steps):\n",
    "    if step < warmup_steps:\n",
    "        return max_lr * (step + 1) / warmup_steps\n",
    "    elif step > max_steps:\n",
    "        return min_lr\n",
    "    decay_ratio = (step - warmup_steps) / (max_steps - warmup_steps)\n",
    "    assert 0 <= decay_ratio <= 1\n",
    "    coeff = 0.5 * (1 + math.cos(math.pi * decay_ratio))\n",
    "    return min_lr + coeff * (max_lr - min_lr)"
   ]
  },
  {
   "cell_type": "code",
   "execution_count": 8,
   "id": "3a8a6efb-da58-4942-946f-234d68a63bcf",
   "metadata": {},
   "outputs": [],
   "source": [
    "def train():\n",
    "    VAE = VariationalAutoEncoder()\n",
    "\n",
    "    data_dir = \"data\"\n",
    "    checkpoint_dir = \"checkpoints\"\n",
    "    images_generated_dir = \"images_generated\"\n",
    "    batch_size = 128\n",
    "    epochs = 50\n",
    "    warmup_steps = 5\n",
    "    max_steps = 50\n",
    "    max_lr = 1e-3\n",
    "    min_lr = 0.01 * max_lr\n",
    "    lr = max_lr\n",
    "    num_samples = 16\n",
    "    \n",
    "    os.makedirs(data_dir, exist_ok=True)\n",
    "    os.makedirs(checkpoint_dir, exist_ok=True)\n",
    "    os.makedirs(images_generated_dir, exist_ok=True)\n",
    "    data_loader = load_dataset(data_dir, batch_size)\n",
    "\n",
    "    device = torch.device(\"cuda\" if torch.cuda.is_available() else \"cpu\")\n",
    "    VAE.to(device)\n",
    "    \n",
    "    optimizer = torch.optim.Adam(VAE.parameters(), lr=lr)\n",
    "\n",
    "    VAE.train()\n",
    "    for epoch in range(epochs):\n",
    "        epoch_loss =  0\n",
    "        for batch in tqdm(data_loader):\n",
    "            lr = get_lr(epoch, warmup_steps, max_lr, min_lr, max_steps)\n",
    "            for param_group in optimizer.param_groups:\n",
    "                param_group['lr'] = lr\n",
    "            optimizer.zero_grad()\n",
    "            x, labels = batch\n",
    "            x = x.to(device)\n",
    "            x = x.view(-1, 28 * 28)\n",
    "            x_reconstructed, z, eps, log_std_output = VAE(x)\n",
    "            loss = compute_negative_evidence_lower_bound(x, x_reconstructed, z, eps, log_std_output)\n",
    "            epoch_loss += loss.item()\n",
    "            loss.backward()\n",
    "            optimizer.step()\n",
    "        epoch_loss = epoch_loss / len(data_loader)\n",
    "        print(f\"{epoch + 1} / {epochs} ---> Loss : {epoch_loss:.4f}\")\n",
    "\n",
    "        if (epoch+1) % 10 == 0:\n",
    "            checkpoint_path = os.path.join(checkpoint_dir, f\"vae_epoch_{epoch+1}.pth\")\n",
    "            torch.save({\n",
    "                'epoch': epoch + 1,\n",
    "                'model_state_dict': VAE.state_dict(),\n",
    "                'optimizer_state_dict': optimizer.state_dict(),\n",
    "                'loss': epoch_loss,\n",
    "            }, checkpoint_path)\n",
    "\n",
    "        with torch.no_grad():\n",
    "            sample = torch.randn(num_samples, VAE.latent_dim).to(device)\n",
    "            sample = VAE.decoder(sample).cpu()\n",
    "            torchvision.utils.save_image(sample.view(num_samples, 1, 28, 28), os.path.join(images_generated_dir, f\"images_generated_{epoch+1}.png\"))"
   ]
  },
  {
   "cell_type": "code",
   "execution_count": 9,
   "id": "226dd263-9180-430e-8db6-6aad9f9ab1cd",
   "metadata": {},
   "outputs": [
    {
     "data": {
      "application/vnd.jupyter.widget-view+json": {
       "model_id": "a9c2db4cdc66447497d4d5b1602c0cce",
       "version_major": 2,
       "version_minor": 0
      },
      "text/plain": [
       "  0%|          | 0/469 [00:00<?, ?it/s]"
      ]
     },
     "metadata": {},
     "output_type": "display_data"
    },
    {
     "name": "stdout",
     "output_type": "stream",
     "text": [
      "1 / 50 ---> Loss : 211.0139\n"
     ]
    },
    {
     "data": {
      "application/vnd.jupyter.widget-view+json": {
       "model_id": "ab3eb60c88d2440ba2becc21faac4a69",
       "version_major": 2,
       "version_minor": 0
      },
      "text/plain": [
       "  0%|          | 0/469 [00:00<?, ?it/s]"
      ]
     },
     "metadata": {},
     "output_type": "display_data"
    },
    {
     "name": "stdout",
     "output_type": "stream",
     "text": [
      "2 / 50 ---> Loss : 172.6332\n"
     ]
    },
    {
     "data": {
      "application/vnd.jupyter.widget-view+json": {
       "model_id": "7a15bb40e3624dec911d400ff66e39e8",
       "version_major": 2,
       "version_minor": 0
      },
      "text/plain": [
       "  0%|          | 0/469 [00:00<?, ?it/s]"
      ]
     },
     "metadata": {},
     "output_type": "display_data"
    },
    {
     "name": "stdout",
     "output_type": "stream",
     "text": [
      "3 / 50 ---> Loss : 164.1703\n"
     ]
    },
    {
     "data": {
      "application/vnd.jupyter.widget-view+json": {
       "model_id": "169a30cbee8549edb8a966f5c1356e50",
       "version_major": 2,
       "version_minor": 0
      },
      "text/plain": [
       "  0%|          | 0/469 [00:00<?, ?it/s]"
      ]
     },
     "metadata": {},
     "output_type": "display_data"
    },
    {
     "name": "stdout",
     "output_type": "stream",
     "text": [
      "4 / 50 ---> Loss : 159.2665\n"
     ]
    },
    {
     "data": {
      "application/vnd.jupyter.widget-view+json": {
       "model_id": "1db2d70830824e40ad2a67514fa96fcb",
       "version_major": 2,
       "version_minor": 0
      },
      "text/plain": [
       "  0%|          | 0/469 [00:00<?, ?it/s]"
      ]
     },
     "metadata": {},
     "output_type": "display_data"
    },
    {
     "name": "stdout",
     "output_type": "stream",
     "text": [
      "5 / 50 ---> Loss : 155.7194\n"
     ]
    },
    {
     "data": {
      "application/vnd.jupyter.widget-view+json": {
       "model_id": "afdd6f9f3bca4bfe80861152cfdf6a1c",
       "version_major": 2,
       "version_minor": 0
      },
      "text/plain": [
       "  0%|          | 0/469 [00:00<?, ?it/s]"
      ]
     },
     "metadata": {},
     "output_type": "display_data"
    },
    {
     "name": "stdout",
     "output_type": "stream",
     "text": [
      "6 / 50 ---> Loss : 152.8396\n"
     ]
    },
    {
     "data": {
      "application/vnd.jupyter.widget-view+json": {
       "model_id": "a6c777668dbe431f9fd188cadb525fe9",
       "version_major": 2,
       "version_minor": 0
      },
      "text/plain": [
       "  0%|          | 0/469 [00:00<?, ?it/s]"
      ]
     },
     "metadata": {},
     "output_type": "display_data"
    },
    {
     "name": "stdout",
     "output_type": "stream",
     "text": [
      "7 / 50 ---> Loss : 150.9223\n"
     ]
    },
    {
     "data": {
      "application/vnd.jupyter.widget-view+json": {
       "model_id": "b2b357d3a56f4ea8bc6e01476ef3ccbb",
       "version_major": 2,
       "version_minor": 0
      },
      "text/plain": [
       "  0%|          | 0/469 [00:00<?, ?it/s]"
      ]
     },
     "metadata": {},
     "output_type": "display_data"
    },
    {
     "name": "stdout",
     "output_type": "stream",
     "text": [
      "8 / 50 ---> Loss : 149.3810\n"
     ]
    },
    {
     "data": {
      "application/vnd.jupyter.widget-view+json": {
       "model_id": "7ec4ed56074940c4b197090e3585eb44",
       "version_major": 2,
       "version_minor": 0
      },
      "text/plain": [
       "  0%|          | 0/469 [00:00<?, ?it/s]"
      ]
     },
     "metadata": {},
     "output_type": "display_data"
    },
    {
     "name": "stdout",
     "output_type": "stream",
     "text": [
      "9 / 50 ---> Loss : 148.1543\n"
     ]
    },
    {
     "data": {
      "application/vnd.jupyter.widget-view+json": {
       "model_id": "c7fa3061fdf647f49573f00f1c3169fe",
       "version_major": 2,
       "version_minor": 0
      },
      "text/plain": [
       "  0%|          | 0/469 [00:00<?, ?it/s]"
      ]
     },
     "metadata": {},
     "output_type": "display_data"
    },
    {
     "name": "stdout",
     "output_type": "stream",
     "text": [
      "10 / 50 ---> Loss : 147.1290\n"
     ]
    },
    {
     "data": {
      "application/vnd.jupyter.widget-view+json": {
       "model_id": "f01d9ca37d5c4b62af729d49ff43e561",
       "version_major": 2,
       "version_minor": 0
      },
      "text/plain": [
       "  0%|          | 0/469 [00:00<?, ?it/s]"
      ]
     },
     "metadata": {},
     "output_type": "display_data"
    },
    {
     "name": "stdout",
     "output_type": "stream",
     "text": [
      "11 / 50 ---> Loss : 146.2919\n"
     ]
    },
    {
     "data": {
      "application/vnd.jupyter.widget-view+json": {
       "model_id": "34bdff93b7c242cb9f4e2e78e2ad1a8b",
       "version_major": 2,
       "version_minor": 0
      },
      "text/plain": [
       "  0%|          | 0/469 [00:00<?, ?it/s]"
      ]
     },
     "metadata": {},
     "output_type": "display_data"
    },
    {
     "name": "stdout",
     "output_type": "stream",
     "text": [
      "12 / 50 ---> Loss : 145.4905\n"
     ]
    },
    {
     "data": {
      "application/vnd.jupyter.widget-view+json": {
       "model_id": "3dc53997e8884ea58cc65a4c411a7a0c",
       "version_major": 2,
       "version_minor": 0
      },
      "text/plain": [
       "  0%|          | 0/469 [00:00<?, ?it/s]"
      ]
     },
     "metadata": {},
     "output_type": "display_data"
    },
    {
     "name": "stdout",
     "output_type": "stream",
     "text": [
      "13 / 50 ---> Loss : 144.7527\n"
     ]
    },
    {
     "data": {
      "application/vnd.jupyter.widget-view+json": {
       "model_id": "ac995ded4d294a2ba2bd46087c1faba1",
       "version_major": 2,
       "version_minor": 0
      },
      "text/plain": [
       "  0%|          | 0/469 [00:00<?, ?it/s]"
      ]
     },
     "metadata": {},
     "output_type": "display_data"
    },
    {
     "name": "stdout",
     "output_type": "stream",
     "text": [
      "14 / 50 ---> Loss : 144.0833\n"
     ]
    },
    {
     "data": {
      "application/vnd.jupyter.widget-view+json": {
       "model_id": "aa87110b7a084a128b429393667c74c3",
       "version_major": 2,
       "version_minor": 0
      },
      "text/plain": [
       "  0%|          | 0/469 [00:00<?, ?it/s]"
      ]
     },
     "metadata": {},
     "output_type": "display_data"
    },
    {
     "name": "stdout",
     "output_type": "stream",
     "text": [
      "15 / 50 ---> Loss : 143.4829\n"
     ]
    },
    {
     "data": {
      "application/vnd.jupyter.widget-view+json": {
       "model_id": "9ea58230e59f43eca1651544052239a3",
       "version_major": 2,
       "version_minor": 0
      },
      "text/plain": [
       "  0%|          | 0/469 [00:00<?, ?it/s]"
      ]
     },
     "metadata": {},
     "output_type": "display_data"
    },
    {
     "name": "stdout",
     "output_type": "stream",
     "text": [
      "16 / 50 ---> Loss : 142.9048\n"
     ]
    },
    {
     "data": {
      "application/vnd.jupyter.widget-view+json": {
       "model_id": "2350ac717f104a01b7bff025d314d740",
       "version_major": 2,
       "version_minor": 0
      },
      "text/plain": [
       "  0%|          | 0/469 [00:00<?, ?it/s]"
      ]
     },
     "metadata": {},
     "output_type": "display_data"
    },
    {
     "name": "stdout",
     "output_type": "stream",
     "text": [
      "17 / 50 ---> Loss : 142.4119\n"
     ]
    },
    {
     "data": {
      "application/vnd.jupyter.widget-view+json": {
       "model_id": "e9aa24b456974457b11250ef91d13539",
       "version_major": 2,
       "version_minor": 0
      },
      "text/plain": [
       "  0%|          | 0/469 [00:00<?, ?it/s]"
      ]
     },
     "metadata": {},
     "output_type": "display_data"
    },
    {
     "name": "stdout",
     "output_type": "stream",
     "text": [
      "18 / 50 ---> Loss : 141.8650\n"
     ]
    },
    {
     "data": {
      "application/vnd.jupyter.widget-view+json": {
       "model_id": "2a95447b0e6c49ef8ceec2bd182be31e",
       "version_major": 2,
       "version_minor": 0
      },
      "text/plain": [
       "  0%|          | 0/469 [00:00<?, ?it/s]"
      ]
     },
     "metadata": {},
     "output_type": "display_data"
    },
    {
     "name": "stdout",
     "output_type": "stream",
     "text": [
      "19 / 50 ---> Loss : 141.3849\n"
     ]
    },
    {
     "data": {
      "application/vnd.jupyter.widget-view+json": {
       "model_id": "baa8a353871d4c64b1a72f65080e6b47",
       "version_major": 2,
       "version_minor": 0
      },
      "text/plain": [
       "  0%|          | 0/469 [00:00<?, ?it/s]"
      ]
     },
     "metadata": {},
     "output_type": "display_data"
    },
    {
     "name": "stdout",
     "output_type": "stream",
     "text": [
      "20 / 50 ---> Loss : 140.9182\n"
     ]
    },
    {
     "data": {
      "application/vnd.jupyter.widget-view+json": {
       "model_id": "ed9f6a0631e641cf8b3827f5df14a99d",
       "version_major": 2,
       "version_minor": 0
      },
      "text/plain": [
       "  0%|          | 0/469 [00:00<?, ?it/s]"
      ]
     },
     "metadata": {},
     "output_type": "display_data"
    },
    {
     "name": "stdout",
     "output_type": "stream",
     "text": [
      "21 / 50 ---> Loss : 140.4720\n"
     ]
    },
    {
     "data": {
      "application/vnd.jupyter.widget-view+json": {
       "model_id": "eacd39ebf1514956bd6d0f2e6a557185",
       "version_major": 2,
       "version_minor": 0
      },
      "text/plain": [
       "  0%|          | 0/469 [00:00<?, ?it/s]"
      ]
     },
     "metadata": {},
     "output_type": "display_data"
    },
    {
     "name": "stdout",
     "output_type": "stream",
     "text": [
      "22 / 50 ---> Loss : 140.0990\n"
     ]
    },
    {
     "data": {
      "application/vnd.jupyter.widget-view+json": {
       "model_id": "e91377b29f6d4786a27f2106652e4259",
       "version_major": 2,
       "version_minor": 0
      },
      "text/plain": [
       "  0%|          | 0/469 [00:00<?, ?it/s]"
      ]
     },
     "metadata": {},
     "output_type": "display_data"
    },
    {
     "name": "stdout",
     "output_type": "stream",
     "text": [
      "23 / 50 ---> Loss : 139.7159\n"
     ]
    },
    {
     "data": {
      "application/vnd.jupyter.widget-view+json": {
       "model_id": "43d1a0098c494ba988c44e578ba3ccf6",
       "version_major": 2,
       "version_minor": 0
      },
      "text/plain": [
       "  0%|          | 0/469 [00:00<?, ?it/s]"
      ]
     },
     "metadata": {},
     "output_type": "display_data"
    },
    {
     "name": "stdout",
     "output_type": "stream",
     "text": [
      "24 / 50 ---> Loss : 139.3084\n"
     ]
    },
    {
     "data": {
      "application/vnd.jupyter.widget-view+json": {
       "model_id": "38dfc8ec1c6c4b83bc1ada61f8335bd0",
       "version_major": 2,
       "version_minor": 0
      },
      "text/plain": [
       "  0%|          | 0/469 [00:00<?, ?it/s]"
      ]
     },
     "metadata": {},
     "output_type": "display_data"
    },
    {
     "name": "stdout",
     "output_type": "stream",
     "text": [
      "25 / 50 ---> Loss : 138.9347\n"
     ]
    },
    {
     "data": {
      "application/vnd.jupyter.widget-view+json": {
       "model_id": "f56bcd583b8f4a04b5cf05bba0fe7f03",
       "version_major": 2,
       "version_minor": 0
      },
      "text/plain": [
       "  0%|          | 0/469 [00:00<?, ?it/s]"
      ]
     },
     "metadata": {},
     "output_type": "display_data"
    },
    {
     "name": "stdout",
     "output_type": "stream",
     "text": [
      "26 / 50 ---> Loss : 138.6046\n"
     ]
    },
    {
     "data": {
      "application/vnd.jupyter.widget-view+json": {
       "model_id": "8abb6b0be87a49e2906ea98adf9c2aef",
       "version_major": 2,
       "version_minor": 0
      },
      "text/plain": [
       "  0%|          | 0/469 [00:00<?, ?it/s]"
      ]
     },
     "metadata": {},
     "output_type": "display_data"
    },
    {
     "name": "stdout",
     "output_type": "stream",
     "text": [
      "27 / 50 ---> Loss : 138.2830\n"
     ]
    },
    {
     "data": {
      "application/vnd.jupyter.widget-view+json": {
       "model_id": "fcef614ededc4aff837b98820a5f9ec8",
       "version_major": 2,
       "version_minor": 0
      },
      "text/plain": [
       "  0%|          | 0/469 [00:00<?, ?it/s]"
      ]
     },
     "metadata": {},
     "output_type": "display_data"
    },
    {
     "name": "stdout",
     "output_type": "stream",
     "text": [
      "28 / 50 ---> Loss : 137.9510\n"
     ]
    },
    {
     "data": {
      "application/vnd.jupyter.widget-view+json": {
       "model_id": "bb4aac5c70884ec28c3ec1af67bd8e99",
       "version_major": 2,
       "version_minor": 0
      },
      "text/plain": [
       "  0%|          | 0/469 [00:00<?, ?it/s]"
      ]
     },
     "metadata": {},
     "output_type": "display_data"
    },
    {
     "name": "stdout",
     "output_type": "stream",
     "text": [
      "29 / 50 ---> Loss : 137.6586\n"
     ]
    },
    {
     "data": {
      "application/vnd.jupyter.widget-view+json": {
       "model_id": "c196e5c3e37a45958f7f546bc9fec8c5",
       "version_major": 2,
       "version_minor": 0
      },
      "text/plain": [
       "  0%|          | 0/469 [00:00<?, ?it/s]"
      ]
     },
     "metadata": {},
     "output_type": "display_data"
    },
    {
     "name": "stdout",
     "output_type": "stream",
     "text": [
      "30 / 50 ---> Loss : 137.3420\n"
     ]
    },
    {
     "data": {
      "application/vnd.jupyter.widget-view+json": {
       "model_id": "130196f0bd4c45ab9f4b88d01c9f84b6",
       "version_major": 2,
       "version_minor": 0
      },
      "text/plain": [
       "  0%|          | 0/469 [00:00<?, ?it/s]"
      ]
     },
     "metadata": {},
     "output_type": "display_data"
    },
    {
     "name": "stdout",
     "output_type": "stream",
     "text": [
      "31 / 50 ---> Loss : 137.0634\n"
     ]
    },
    {
     "data": {
      "application/vnd.jupyter.widget-view+json": {
       "model_id": "f6b46a51ef9f4b00a7e1b1ffe27a7b76",
       "version_major": 2,
       "version_minor": 0
      },
      "text/plain": [
       "  0%|          | 0/469 [00:00<?, ?it/s]"
      ]
     },
     "metadata": {},
     "output_type": "display_data"
    },
    {
     "name": "stdout",
     "output_type": "stream",
     "text": [
      "32 / 50 ---> Loss : 136.7991\n"
     ]
    },
    {
     "data": {
      "application/vnd.jupyter.widget-view+json": {
       "model_id": "8a8dd8ed14ce42f49cb375d1ef2211c5",
       "version_major": 2,
       "version_minor": 0
      },
      "text/plain": [
       "  0%|          | 0/469 [00:00<?, ?it/s]"
      ]
     },
     "metadata": {},
     "output_type": "display_data"
    },
    {
     "name": "stdout",
     "output_type": "stream",
     "text": [
      "33 / 50 ---> Loss : 136.5350\n"
     ]
    },
    {
     "data": {
      "application/vnd.jupyter.widget-view+json": {
       "model_id": "8d54da970f384073b4d8e9dc8c9d75d0",
       "version_major": 2,
       "version_minor": 0
      },
      "text/plain": [
       "  0%|          | 0/469 [00:00<?, ?it/s]"
      ]
     },
     "metadata": {},
     "output_type": "display_data"
    },
    {
     "name": "stdout",
     "output_type": "stream",
     "text": [
      "34 / 50 ---> Loss : 136.2965\n"
     ]
    },
    {
     "data": {
      "application/vnd.jupyter.widget-view+json": {
       "model_id": "87c80947a8444ad299ce4157ef826667",
       "version_major": 2,
       "version_minor": 0
      },
      "text/plain": [
       "  0%|          | 0/469 [00:00<?, ?it/s]"
      ]
     },
     "metadata": {},
     "output_type": "display_data"
    },
    {
     "name": "stdout",
     "output_type": "stream",
     "text": [
      "35 / 50 ---> Loss : 136.1116\n"
     ]
    },
    {
     "data": {
      "application/vnd.jupyter.widget-view+json": {
       "model_id": "149cf7dd14dc40aea6065875548372b8",
       "version_major": 2,
       "version_minor": 0
      },
      "text/plain": [
       "  0%|          | 0/469 [00:00<?, ?it/s]"
      ]
     },
     "metadata": {},
     "output_type": "display_data"
    },
    {
     "name": "stdout",
     "output_type": "stream",
     "text": [
      "36 / 50 ---> Loss : 135.8839\n"
     ]
    },
    {
     "data": {
      "application/vnd.jupyter.widget-view+json": {
       "model_id": "72e6ee70fbcc40ab8248921e44c374f2",
       "version_major": 2,
       "version_minor": 0
      },
      "text/plain": [
       "  0%|          | 0/469 [00:00<?, ?it/s]"
      ]
     },
     "metadata": {},
     "output_type": "display_data"
    },
    {
     "name": "stdout",
     "output_type": "stream",
     "text": [
      "37 / 50 ---> Loss : 135.6872\n"
     ]
    },
    {
     "data": {
      "application/vnd.jupyter.widget-view+json": {
       "model_id": "22c5715d5f464e48881f7d8ca8f7bbe7",
       "version_major": 2,
       "version_minor": 0
      },
      "text/plain": [
       "  0%|          | 0/469 [00:00<?, ?it/s]"
      ]
     },
     "metadata": {},
     "output_type": "display_data"
    },
    {
     "name": "stdout",
     "output_type": "stream",
     "text": [
      "38 / 50 ---> Loss : 135.5110\n"
     ]
    },
    {
     "data": {
      "application/vnd.jupyter.widget-view+json": {
       "model_id": "7d49882fc82d41b980456c366aad9751",
       "version_major": 2,
       "version_minor": 0
      },
      "text/plain": [
       "  0%|          | 0/469 [00:00<?, ?it/s]"
      ]
     },
     "metadata": {},
     "output_type": "display_data"
    },
    {
     "name": "stdout",
     "output_type": "stream",
     "text": [
      "39 / 50 ---> Loss : 135.3583\n"
     ]
    },
    {
     "data": {
      "application/vnd.jupyter.widget-view+json": {
       "model_id": "25671cb2a2274040907dce34ff5644f2",
       "version_major": 2,
       "version_minor": 0
      },
      "text/plain": [
       "  0%|          | 0/469 [00:00<?, ?it/s]"
      ]
     },
     "metadata": {},
     "output_type": "display_data"
    },
    {
     "name": "stdout",
     "output_type": "stream",
     "text": [
      "40 / 50 ---> Loss : 135.2038\n"
     ]
    },
    {
     "data": {
      "application/vnd.jupyter.widget-view+json": {
       "model_id": "a5abdee949244477a5e513985b90d676",
       "version_major": 2,
       "version_minor": 0
      },
      "text/plain": [
       "  0%|          | 0/469 [00:00<?, ?it/s]"
      ]
     },
     "metadata": {},
     "output_type": "display_data"
    },
    {
     "name": "stdout",
     "output_type": "stream",
     "text": [
      "41 / 50 ---> Loss : 135.0839\n"
     ]
    },
    {
     "data": {
      "application/vnd.jupyter.widget-view+json": {
       "model_id": "1fd2a32261eb4591a5c8adc278795930",
       "version_major": 2,
       "version_minor": 0
      },
      "text/plain": [
       "  0%|          | 0/469 [00:00<?, ?it/s]"
      ]
     },
     "metadata": {},
     "output_type": "display_data"
    },
    {
     "name": "stdout",
     "output_type": "stream",
     "text": [
      "42 / 50 ---> Loss : 134.9587\n"
     ]
    },
    {
     "data": {
      "application/vnd.jupyter.widget-view+json": {
       "model_id": "e7cfd3aa8bf5496ca9e2da0a20162443",
       "version_major": 2,
       "version_minor": 0
      },
      "text/plain": [
       "  0%|          | 0/469 [00:00<?, ?it/s]"
      ]
     },
     "metadata": {},
     "output_type": "display_data"
    },
    {
     "name": "stdout",
     "output_type": "stream",
     "text": [
      "43 / 50 ---> Loss : 134.8825\n"
     ]
    },
    {
     "data": {
      "application/vnd.jupyter.widget-view+json": {
       "model_id": "b89f3038fb774500925b293883b2b833",
       "version_major": 2,
       "version_minor": 0
      },
      "text/plain": [
       "  0%|          | 0/469 [00:00<?, ?it/s]"
      ]
     },
     "metadata": {},
     "output_type": "display_data"
    },
    {
     "name": "stdout",
     "output_type": "stream",
     "text": [
      "44 / 50 ---> Loss : 134.7866\n"
     ]
    },
    {
     "data": {
      "application/vnd.jupyter.widget-view+json": {
       "model_id": "220bbbe265a2447e8c40fe79fad81db3",
       "version_major": 2,
       "version_minor": 0
      },
      "text/plain": [
       "  0%|          | 0/469 [00:00<?, ?it/s]"
      ]
     },
     "metadata": {},
     "output_type": "display_data"
    },
    {
     "name": "stdout",
     "output_type": "stream",
     "text": [
      "45 / 50 ---> Loss : 134.7067\n"
     ]
    },
    {
     "data": {
      "application/vnd.jupyter.widget-view+json": {
       "model_id": "37f337790a354bee8e81c38f1ea8b07f",
       "version_major": 2,
       "version_minor": 0
      },
      "text/plain": [
       "  0%|          | 0/469 [00:00<?, ?it/s]"
      ]
     },
     "metadata": {},
     "output_type": "display_data"
    },
    {
     "name": "stdout",
     "output_type": "stream",
     "text": [
      "46 / 50 ---> Loss : 134.6556\n"
     ]
    },
    {
     "data": {
      "application/vnd.jupyter.widget-view+json": {
       "model_id": "a49cc114e5b34abc90b44e9dc5f71085",
       "version_major": 2,
       "version_minor": 0
      },
      "text/plain": [
       "  0%|          | 0/469 [00:00<?, ?it/s]"
      ]
     },
     "metadata": {},
     "output_type": "display_data"
    },
    {
     "name": "stdout",
     "output_type": "stream",
     "text": [
      "47 / 50 ---> Loss : 134.5996\n"
     ]
    },
    {
     "data": {
      "application/vnd.jupyter.widget-view+json": {
       "model_id": "7b35b300a8304beba5073c0684652de3",
       "version_major": 2,
       "version_minor": 0
      },
      "text/plain": [
       "  0%|          | 0/469 [00:00<?, ?it/s]"
      ]
     },
     "metadata": {},
     "output_type": "display_data"
    },
    {
     "name": "stdout",
     "output_type": "stream",
     "text": [
      "48 / 50 ---> Loss : 134.5610\n"
     ]
    },
    {
     "data": {
      "application/vnd.jupyter.widget-view+json": {
       "model_id": "74d932adb5f54434bf77ecf83a22e85b",
       "version_major": 2,
       "version_minor": 0
      },
      "text/plain": [
       "  0%|          | 0/469 [00:00<?, ?it/s]"
      ]
     },
     "metadata": {},
     "output_type": "display_data"
    },
    {
     "name": "stdout",
     "output_type": "stream",
     "text": [
      "49 / 50 ---> Loss : 134.5407\n"
     ]
    },
    {
     "data": {
      "application/vnd.jupyter.widget-view+json": {
       "model_id": "afd99257876445eaa64859f9be514dee",
       "version_major": 2,
       "version_minor": 0
      },
      "text/plain": [
       "  0%|          | 0/469 [00:00<?, ?it/s]"
      ]
     },
     "metadata": {},
     "output_type": "display_data"
    },
    {
     "name": "stdout",
     "output_type": "stream",
     "text": [
      "50 / 50 ---> Loss : 134.5131\n"
     ]
    }
   ],
   "source": [
    "train()"
   ]
  },
  {
   "cell_type": "code",
   "execution_count": 10,
   "id": "c2fb2df8-b789-4ff0-8489-fc8b33d97ede",
   "metadata": {},
   "outputs": [],
   "source": [
    "def test():\n",
    "    checkpoint_dir = \"checkpoints\"\n",
    "    num_samples = 4\n",
    "\n",
    "    VAE = VariationalAutoEncoder()\n",
    "    device = torch.device(\"cuda\" if torch.cuda.is_available() else \"cpu\")\n",
    "    VAE.to(device)\n",
    "    \n",
    "    checkpoint_path = os.path.join(checkpoint_dir, \"vae_epoch_30.pth\")\n",
    "    \n",
    "    checkpoint = torch.load(checkpoint_path, map_location=device, weights_only=True)\n",
    "    VAE.load_state_dict(checkpoint['model_state_dict'])\n",
    "    VAE.eval()\n",
    "\n",
    "    samples = torch.randn(num_samples, VAE.latent_dim).to(device)\n",
    "    results = VAE.decoder(samples).view(num_samples, 28, 28).detach().cpu().numpy()\n",
    "\n",
    "    fig, axes = plt.subplots(1, num_samples, figsize=(10, 2.5))\n",
    "    for i, ax in enumerate(axes):\n",
    "        ax.imshow(results[i], cmap=\"gray\")\n",
    "        ax.axis(\"off\")\n",
    "    plt.tight_layout()\n",
    "    plt.show()"
   ]
  },
  {
   "cell_type": "code",
   "execution_count": 11,
   "id": "016a2940-49cd-400f-88c6-92bbf0de8787",
   "metadata": {},
   "outputs": [
    {
     "data": {
      "image/png": "[encoded data removed]",
      "text/plain": [
       "<Figure size 1000x250 with 4 Axes>"
      ]
     },
     "metadata": {},
     "output_type": "display_data"
    }
   ],
   "source": [
    "test()"
   ]
  },
  {
   "cell_type": "code",
   "execution_count": null,
   "id": "0812154b-d297-4063-9236-e7f6af5ac37c",
   "metadata": {},
   "outputs": [],
   "source": []
  }
 ],
 "metadata": {
  "kernelspec": {
   "display_name": "Python 3 (ipykernel)",
   "language": "python",
   "name": "python3"
  },
  "language_info": {
   "codemirror_mode": {
    "name": "ipython",
    "version": 3
   },
   "file_extension": ".py",
   "mimetype": "text/x-python",
   "name": "python",
   "nbconvert_exporter": "python",
   "pygments_lexer": "ipython3",
   "version": "3.11.9"
  }
 },
 "nbformat": 4,
 "nbformat_minor": 5
}
